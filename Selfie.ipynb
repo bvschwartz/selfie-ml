{
  "nbformat": 4,
  "nbformat_minor": 0,
  "metadata": {
    "colab": {
      "name": "Selfie.ipynb",
      "version": "0.3.2",
      "provenance": [],
      "private_outputs": true,
      "collapsed_sections": [],
      "include_colab_link": true
    },
    "kernelspec": {
      "name": "python3",
      "display_name": "Python 3"
    },
    "accelerator": "GPU"
  },
  "cells": [
    {
      "cell_type": "markdown",
      "metadata": {
        "id": "view-in-github",
        "colab_type": "text"
      },
      "source": [
        "<a href=\"https://colab.research.google.com/github/bvschwartz/selfie-ml/blob/master/Selfie.ipynb\" target=\"_parent\"><img src=\"https://colab.research.google.com/assets/colab-badge.svg\" alt=\"Open In Colab\"/></a>"
      ]
    },
    {
      "cell_type": "markdown",
      "metadata": {
        "id": "3iCGoC7weyJu",
        "colab_type": "text"
      },
      "source": [
        "#**Download** and sort selfie data"
      ]
    },
    {
      "cell_type": "code",
      "metadata": {
        "id": "d_t9yUle8Af7",
        "colab_type": "code",
        "colab": {}
      },
      "source": [
        "!ls \n",
        "!ls dataset/training"
      ],
      "execution_count": 0,
      "outputs": []
    },
    {
      "cell_type": "code",
      "metadata": {
        "id": "M9dxg3vlewz5",
        "colab_type": "code",
        "colab": {}
      },
      "source": [
        "!wget \"https://www.crcv.ucf.edu/data/Selfie/Selfie-dataset.tar.gz\"\n",
        "!tar xzf ./Selfie-dataset.tar.gz\n",
        "!rm ./Selfie-dataset.tar.gz"
      ],
      "execution_count": 0,
      "outputs": []
    },
    {
      "cell_type": "code",
      "metadata": {
        "id": "e-Hn8mR_gWNS",
        "colab_type": "code",
        "colab": {}
      },
      "source": [
        "from shutil import copyfile\n",
        "import os\n",
        "import random\n",
        "\n",
        "labels = [ \"partial_faces\", \"is_female\", \"baby_age\", \"child_age\", \"teenager_age\", \"youth_age\", \"middle_age\", \"senior_age\", \"white_race\", \"black_race\", \"asian_race\", \"oval_face\", \"round_face\", \"heart_face\", \"smiling\", \"mouth_open\", \"frowning\", \"wearing_glasses\", \"wearing_sunglasses\", \"wearing_lipstick\", \"tongue_out\", \"duck_face\", \"black_hair\", \"blond_hair\", \"brown_hair\", \"red_hair\", \"curly_hair\", \"straight_hair\", \"braid_hair\", \"showing_cellphone\", \"using_earphone\", \"using_mirror\", \"braces\", \"wearing_hat\", \"harsh_lighting\", \"dim_lighting\" ]\n",
        "dataset = './Selfie-dataset/selfie_dataset.txt'\n",
        "image_dir = './Selfie-dataset/images'\n",
        "\n",
        "def copy_images(label, set_name):\n",
        "    print(\"copy_images:\", label, \"for\", set_name)\n",
        "    female_index = labels.index(\"is_female\")\n",
        "\n",
        "    if not label in labels:\n",
        "        print(\"bad label:\", label)\n",
        "        quit()\n",
        "    label_index = labels.index(label)\n",
        "    src_dir = image_dir\n",
        "\n",
        "    train_dir = \"dataset/training/\" + set_name + \"/\" + label\n",
        "    test_dir = \"dataset/testing/\" + set_name + \"/\" + label\n",
        "    if not os.path.exists(train_dir):\n",
        "        os.makedirs(train_dir)\n",
        "    if not os.path.exists(test_dir):\n",
        "        os.makedirs(test_dir)\n",
        "\n",
        "    fp = open(dataset)\n",
        "    lines = fp.readlines()\n",
        "    files = []\n",
        "    for line in lines:\n",
        "        line = line.strip().split(\" \")\n",
        "        file = line[0] + \".jpg\"\n",
        "        score = line[1]\n",
        "        cats = line[2:]\n",
        "        if not cats[female_index] == \"1\":\n",
        "            continue\n",
        "        if cats[label_index] == \"1\":\n",
        "            files.append(file)\n",
        "\n",
        "    for i, file in enumerate(files):\n",
        "            src = src_dir + \"/\" + file\n",
        "            dst = train_dir + \"/\" + file\n",
        "            if random.random() < 0.1666:\n",
        "                dst = test_dir + \"/\" + file\n",
        "            copyfile(src, dst)\n",
        "\n",
        "copy_images(\"black_hair\", \"color\")\n",
        "copy_images(\"red_hair\", \"color\")\n",
        "copy_images(\"brown_hair\", \"color\")\n",
        "copy_images(\"blond_hair\", \"color\")\n",
        "copy_images(\"straight_hair\", \"curl\")\n",
        "copy_images(\"curly_hair\", \"curl\")\n",
        "copy_images(\"braid_hair\", \"curl\")\n",
        "copy_images(\"black_race\", \"race\")\n",
        "copy_images(\"white_race\", \"race\")\n",
        "copy_images(\"asian_race\", \"race\")\n",
        "\n",
        "\n"
      ],
      "execution_count": 0,
      "outputs": []
    },
    {
      "cell_type": "markdown",
      "metadata": {
        "id": "HxT7EXIsi-6o",
        "colab_type": "text"
      },
      "source": [
        "Training!"
      ]
    },
    {
      "cell_type": "code",
      "metadata": {
        "id": "ZxYNNeDgiTr6",
        "colab_type": "code",
        "colab": {}
      },
      "source": [
        "from keras.preprocessing.image import ImageDataGenerator\n",
        "import tensorflow as tf\n",
        "from tensorflow import keras\n",
        "import numpy as np\n",
        "import matplotlib.pyplot as plt\n",
        "from tensorflow.keras.optimizers import RMSprop\n",
        "\n",
        "train_dir = 'dataset/training/color'\n",
        "test_dir = 'dataset/testing/color'\n",
        "\n",
        "datagen = ImageDataGenerator(rescale=1.0/255.0)\n",
        "print(\"loading training data\")\n",
        "train_it = datagen.flow_from_directory(train_dir, class_mode='sparse', batch_size=32, target_size = (306, 306), color_mode=\"rgb\")\n",
        "cats = len(train_it.classes)\n",
        "print(train_it.class_indices)\n",
        "#print(train_it[0])\n",
        "print(\"loading testing data\")\n",
        "test_it = datagen.flow_from_directory(test_dir, class_mode='sparse', batch_size=32, target_size = (306, 306), color_mode=\"rgb\")\n",
        "#print(test_it.class_indices)\n",
        "\n",
        "model = tf.keras.models.Sequential([\n",
        "    # Note the input shape is the desired size of the image 150x150 with 3 bytes color\n",
        "    tf.keras.layers.Conv2D(16, (3,3), activation='relu', input_shape=(306, 306, 3)),\n",
        "    tf.keras.layers.MaxPooling2D(2,2),\n",
        "    tf.keras.layers.Conv2D(32, (3,3), activation='relu'),\n",
        "    tf.keras.layers.MaxPooling2D(2,2),\n",
        "    tf.keras.layers.Conv2D(64, (3,3), activation='relu'),\n",
        "    tf.keras.layers.MaxPooling2D(2,2),\n",
        "    # Flatten the results to feed into a DNN\n",
        "    tf.keras.layers.Flatten(),\n",
        "    # 512 neuron hidden layer\n",
        "    tf.keras.layers.Dense(512, activation='relu'),\n",
        "    # Only 1 output neuron. It will contain a value from 0-1 where 0 for 1 class ('cats') and 1 for the other ('dogs')\n",
        "    tf.keras.layers.Dense(cats, activation='softmax')\n",
        "    \n",
        "    tf.keras.layers.Flatten(input_shape=(306, 306, 3)),\n",
        "    tf.keras.layers.Dense(128, activation='relu'),\n",
        "    tf.keras.layers.Dense(cats, activation='softmax')\n",
        "])\n",
        "\n",
        "model.summary()\n",
        "\n",
        "model.compile(\n",
        "    optimizer='adam',\n",
        "    loss='sparse_categorical_crossentropy',\n",
        "    metrics=['accuracy']\n",
        ")\n",
        "history = model.fit_generator(\n",
        "    train_it,\n",
        "    steps_per_epoch=100,\n",
        "    epochs=2,\n",
        "    validation_steps=50,\n",
        "    verbose=1,\n",
        "    validation_data=test_it)\n"
      ],
      "execution_count": 0,
      "outputs": []
    },
    {
      "cell_type": "code",
      "metadata": {
        "id": "3ah6dctYoEe5",
        "colab_type": "code",
        "colab": {}
      },
      "source": [
        "from keras.preprocessing.image import ImageDataGenerator\n",
        "import tensorflow as tf\n",
        "from tensorflow.keras.optimizers import RMSprop\n",
        "\n",
        "train_dir = 'dataset/training/color'\n",
        "test_dir = 'dataset/testing/color'\n",
        "\n",
        "train_it = ImageDataGenerator(rescale=1.0/255)\n",
        "print(\"loading training data\")\n",
        "train_it = train_it.flow_from_directory(train_dir, class_mode='sparse', batch_size=32, target_size = (306, 306), color_mode=\"rgb\")\n",
        "cats = len(train_it.class_indices)\n",
        "print(\"categories:\", cats)\n",
        "print(\"loading testing data\")\n",
        "test_it = ImageDataGenerator(rescale=1.0/255)\n",
        "test_it = test_it.flow_from_directory(test_dir, class_mode='sparse', batch_size=32, target_size = (306, 306), color_mode=\"rgb\", shuffle=True)\n",
        "\n",
        "model = tf.keras.models.Sequential([\n",
        "  tf.keras.layers.Flatten(input_shape=(306, 306, 3)),\n",
        "  tf.keras.layers.Dense(128, activation='relu'),\n",
        "  tf.keras.layers.Dropout(0.2),\n",
        "  tf.keras.layers.Dense(cats, activation='softmax')\n",
        "])\n",
        "\n",
        "model.summary()"
      ],
      "execution_count": 0,
      "outputs": []
    },
    {
      "cell_type": "code",
      "metadata": {
        "id": "BV342mUM9Ag8",
        "colab_type": "code",
        "colab": {}
      },
      "source": [
        "n = train_it.next()\n",
        "\n",
        "# build the index -> category\n",
        "#print(\"next() return array of size:\", len(n))\n",
        "#print(\"[0] is the array of 32 images, [1] is the array of 32 category indexes\")\n",
        "images = n[0]\n",
        "indexes = n[1]\n",
        "index_to_label = [0] * len(train_it.class_indices)\n",
        "#print(train_it.class_indices)\n",
        "#print(train_it.num_classes)\n",
        "for v, i in train_it.class_indices.items():\n",
        "  #print(\"*\", i, \"*\", v)\n",
        "  index_to_label[i] = v\n",
        "print(index_to_label)\n",
        "\n",
        "# display the 32 images with category\n",
        "import numpy as np\n",
        "import matplotlib.pyplot as plt\n",
        "\n",
        "print(n[0].shape)\n",
        "for i in range(len(n[0])):\n",
        "  image = n[0][i]\n",
        "  #print(n[1][i])\n",
        "  label = index_to_label[int(n[1][i])]\n",
        "  print(label)\n",
        "  #print(image)\n",
        "  #print(n[0])\n",
        "  #print(train_it.classes)\n",
        "  #x = train_it.next()[0][0]\n",
        "  plt.figure()\n",
        "  #plt.annotate(\"foo\")\n",
        "  #print(x.shape)\n",
        "  plt.imshow(image)\n",
        "  #plt.colorbar()\n",
        "  plt.grid(False)\n",
        "  plt.show()\n"
      ],
      "execution_count": 0,
      "outputs": []
    },
    {
      "cell_type": "code",
      "metadata": {
        "id": "FehP8l368z6v",
        "colab_type": "code",
        "colab": {}
      },
      "source": [
        "model.compile(optimizer='adam',\n",
        "              loss='sparse_categorical_crossentropy',\n",
        "              metrics=['accuracy'])\n",
        "\n",
        "model.fit(train_it, epochs=2)"
      ],
      "execution_count": 0,
      "outputs": []
    },
    {
      "cell_type": "code",
      "metadata": {
        "id": "rwrD9IQNluYx",
        "colab_type": "code",
        "colab": {}
      },
      "source": [
        "model.evaluate(test_it)"
      ],
      "execution_count": 0,
      "outputs": []
    },
    {
      "cell_type": "code",
      "metadata": {
        "id": "upE2XQtlv5DU",
        "colab_type": "code",
        "colab": {}
      },
      "source": [
        "n = test_it.next()\n",
        "p = model.predict(n[0])\n",
        "for i in range(len(p)):\n",
        "  print(\"correct:\", n[1][i], \"argmax:\", np.argmax(p[i]), \"raw:\", p[i])\n",
        "#print(n[1])\n",
        "#print(p)"
      ],
      "execution_count": 0,
      "outputs": []
    },
    {
      "cell_type": "markdown",
      "metadata": {
        "id": "ZKlOcUhfC6C9",
        "colab_type": "text"
      },
      "source": [
        ""
      ]
    },
    {
      "cell_type": "code",
      "metadata": {
        "id": "3hDdNSk2u9sW",
        "colab_type": "code",
        "colab": {}
      },
      "source": [
        "import numpy as np\n",
        "import matplotlib.pyplot as plt\n",
        "\n",
        "n = train_it.next()\n",
        "print(n[0].shape)\n",
        "x = n[0][0]\n",
        "print(n[0])\n",
        "#print(train_it.classes)\n",
        "#x = train_it.next()[0][0]\n",
        "plt.figure()\n",
        "print(x.shape)\n",
        "plt.imshow(x)\n",
        "plt.colorbar()\n",
        "plt.grid(False)\n",
        "plt.show()\n"
      ],
      "execution_count": 0,
      "outputs": []
    }
  ]
}