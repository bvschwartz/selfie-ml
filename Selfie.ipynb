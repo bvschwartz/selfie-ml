{
  "nbformat": 4,
  "nbformat_minor": 0,
  "metadata": {
    "colab": {
      "name": "Selfie.ipynb",
      "version": "0.3.2",
      "provenance": [],
      "private_outputs": true,
      "collapsed_sections": [],
      "toc_visible": true,
      "include_colab_link": true
    },
    "kernelspec": {
      "name": "python3",
      "display_name": "Python 3"
    },
    "accelerator": "GPU"
  },
  "cells": [
    {
      "cell_type": "markdown",
      "metadata": {
        "id": "view-in-github",
        "colab_type": "text"
      },
      "source": [
        "<a href=\"https://colab.research.google.com/github/bvschwartz/selfie-ml/blob/master/Selfie.ipynb\" target=\"_parent\"><img src=\"https://colab.research.google.com/assets/colab-badge.svg\" alt=\"Open In Colab\"/></a>"
      ]
    },
    {
      "cell_type": "markdown",
      "metadata": {
        "id": "3iCGoC7weyJu",
        "colab_type": "text"
      },
      "source": [
        "#**Download** and sort selfie data"
      ]
    },
    {
      "cell_type": "code",
      "metadata": {
        "id": "d_t9yUle8Af7",
        "colab_type": "code",
        "colab": {}
      },
      "source": [
        "!rm -rf master.zip selfie-ml-master wget.log\n",
        "!wget https://github.com/bvschwartz/selfie-ml/archive/master.zip -o wget.log\n",
        "!unzip -q master.zip\n",
        "import sys\n",
        "print(sys.path)\n",
        "if not '/content/selfie-ml-master' in sys.path:\n",
        "  print (\"adding to path\")\n",
        "  sys.path.insert(0, '/content/selfie-ml-master')"
      ],
      "execution_count": 0,
      "outputs": []
    },
    {
      "cell_type": "code",
      "metadata": {
        "id": "MVNK0bCiONcD",
        "colab_type": "code",
        "colab": {}
      },
      "source": [
        "from google.colab import output\n",
        "def beep():\n",
        "  output.eval_js('new Audio(\"https://upload.wikimedia.org/wikipedia/commons/0/05/Beep-09.ogg\").play()')"
      ],
      "execution_count": 0,
      "outputs": []
    },
    {
      "cell_type": "code",
      "metadata": {
        "id": "M9dxg3vlewz5",
        "colab_type": "code",
        "colab": {}
      },
      "source": [
        "!wget \"https://www.crcv.ucf.edu/data/Selfie/Selfie-dataset.tar.gz\"\n",
        "!tar xzf ./Selfie-dataset.tar.gz\n",
        "!rm ./Selfie-dataset.tar.gz\n",
        "beep()"
      ],
      "execution_count": 0,
      "outputs": []
    },
    {
      "cell_type": "code",
      "metadata": {
        "id": "qYdEWq4ZW4tO",
        "colab_type": "code",
        "colab": {}
      },
      "source": [
        "import segment\n",
        "segment.copy_all()"
      ],
      "execution_count": 0,
      "outputs": []
    },
    {
      "cell_type": "markdown",
      "metadata": {
        "id": "HxT7EXIsi-6o",
        "colab_type": "text"
      },
      "source": [
        "Training!"
      ]
    },
    {
      "cell_type": "code",
      "metadata": {
        "id": "ZxYNNeDgiTr6",
        "colab_type": "code",
        "colab": {}
      },
      "source": [
        "from keras.preprocessing.image import ImageDataGenerator\n",
        "import tensorflow as tf\n",
        "from tensorflow import keras\n",
        "import numpy as np\n",
        "import matplotlib.pyplot as plt\n",
        "from tensorflow.keras.optimizers import RMSprop\n",
        "\n",
        "train_dir = 'dataset/training/color'\n",
        "test_dir = 'dataset/testing/color'\n",
        "\n",
        "datagen = ImageDataGenerator(rescale=1.0/255.0)\n",
        "print(\"loading training data\")\n",
        "train_it = datagen.flow_from_directory(train_dir, class_mode='sparse', batch_size=32, target_size = (306, 306), color_mode=\"rgb\")\n",
        "cats = len(train_it.classes)\n",
        "print(train_it.class_indices)\n",
        "#print(train_it[0])\n",
        "print(\"loading testing data\")\n",
        "test_it = datagen.flow_from_directory(test_dir, class_mode='sparse', batch_size=32, target_size = (306, 306), color_mode=\"rgb\")\n",
        "#print(test_it.class_indices)\n",
        "\n",
        "model = tf.keras.models.Sequential([\n",
        "    # Note the input shape is the desired size of the image 150x150 with 3 bytes color\n",
        "    tf.keras.layers.Conv2D(16, (3,3), activation='relu', input_shape=(306, 306, 3)),\n",
        "    tf.keras.layers.MaxPooling2D(2,2),\n",
        "    tf.keras.layers.Conv2D(32, (3,3), activation='relu'),\n",
        "    tf.keras.layers.MaxPooling2D(2,2),\n",
        "    tf.keras.layers.Conv2D(64, (3,3), activation='relu'),\n",
        "    tf.keras.layers.MaxPooling2D(2,2),\n",
        "    # Flatten the results to feed into a DNN\n",
        "    tf.keras.layers.Flatten(),\n",
        "    # 512 neuron hidden layer\n",
        "    tf.keras.layers.Dense(512, activation='relu'),\n",
        "    # Only 1 output neuron. It will contain a value from 0-1 where 0 for 1 class ('cats') and 1 for the other ('dogs')\n",
        "    tf.keras.layers.Dense(cats, activation='softmax')\n",
        "    \n",
        "    tf.keras.layers.Flatten(input_shape=(306, 306, 3)),\n",
        "    tf.keras.layers.Dense(128, activation='relu'),\n",
        "    tf.keras.layers.Dense(cats, activation='softmax')\n",
        "])\n",
        "\n",
        "model.summary()\n",
        "\n",
        "model.compile(\n",
        "    optimizer='adam',\n",
        "    loss='sparse_categorical_crossentropy',\n",
        "    metrics=['accuracy']\n",
        ")\n",
        "history = model.fit_generator(\n",
        "    train_it,\n",
        "    steps_per_epoch=100,\n",
        "    epochs=2,\n",
        "    validation_steps=50,\n",
        "    verbose=1,\n",
        "    validation_data=test_it)\n"
      ],
      "execution_count": 0,
      "outputs": []
    },
    {
      "cell_type": "code",
      "metadata": {
        "id": "3ah6dctYoEe5",
        "colab_type": "code",
        "colab": {}
      },
      "source": [
        "from keras.preprocessing.image import ImageDataGenerator\n",
        "import tensorflow as tf\n",
        "from tensorflow.keras.optimizers import RMSprop\n",
        "\n",
        "train_dir = 'dataset/training/color'\n",
        "test_dir = 'dataset/testing/color'\n",
        "\n",
        "train_it = ImageDataGenerator(rescale=1.0/255)\n",
        "print(\"loading training data\")\n",
        "train_it = train_it.flow_from_directory(train_dir, class_mode='sparse', batch_size=32, target_size = (306, 306), color_mode=\"rgb\", shuffle=True)\n",
        "cats = len(train_it.class_indices)\n",
        "print(\"categories:\", cats)\n",
        "print(\"loading testing data\")\n",
        "test_it = ImageDataGenerator(rescale=1.0/255)\n",
        "test_it = test_it.flow_from_directory(test_dir, class_mode='sparse', batch_size=32, target_size = (306, 306), color_mode=\"rgb\", shuffle=False)\n",
        "\n",
        "model = tf.keras.models.Sequential([\n",
        "  tf.keras.layers.Conv2D(16, (3,3), activation='relu', input_shape=(306, 306, 3)),\n",
        "  tf.keras.layers.MaxPooling2D(2,2),\n",
        "  tf.keras.layers.Flatten(),\n",
        "  #tf.keras.layers.Flatten(input_shape=(306, 306, 3)),\n",
        "  tf.keras.layers.Dense(128, activation='relu'),\n",
        "  tf.keras.layers.Dropout(0.2),\n",
        "  tf.keras.layers.Dense(cats, activation='softmax')\n",
        "])\n",
        "\n",
        "model.summary()"
      ],
      "execution_count": 0,
      "outputs": []
    },
    {
      "cell_type": "code",
      "metadata": {
        "id": "VHcnid1vtv2R",
        "colab_type": "code",
        "colab": {}
      },
      "source": [
        "(x, y) = train_it.next()\n",
        "print(len(x), y)"
      ],
      "execution_count": 0,
      "outputs": []
    },
    {
      "cell_type": "code",
      "metadata": {
        "id": "BV342mUM9Ag8",
        "colab_type": "code",
        "colab": {}
      },
      "source": [
        "# display some of the images and labels\n",
        "train_it.reset()\n",
        "(images, indexes) = train_it.next()\n",
        "#print(indexes)\n",
        "#print(np.histogram(indexes))\n",
        "print(np.histogram([0, 0, 0, 1, 1, 2, 2, 2, 2], bins=3, range=[0, 3]))\n",
        "print(np.sum([[1, 2, 3, 4], [4, 3, 2, 1], [10, 9, 8, 7]], axis=0))\n",
        "xxx\n",
        "# build the index -> category\n",
        "index_to_label = [0] * len(train_it.class_indices)\n",
        "#print(train_it.class_indices)\n",
        "#print(train_it.num_classes)\n",
        "for v, i in train_it.class_indices.items():\n",
        "  #print(\"*\", i, \"*\", v)\n",
        "  index_to_label[i] = v\n",
        "print(index_to_label)\n",
        "\n",
        "# display the 32 images with category\n",
        "import numpy as np\n",
        "import matplotlib.pyplot as plt\n",
        "\n",
        "print(images[0].shape)\n",
        "for i in range(len(images)):\n",
        "  image = images[i]\n",
        "  label = index_to_label[int(indexes[i])]\n",
        "  print(label)\n",
        "  plt.figure()\n",
        "  #print(x.shape)\n",
        "  plt.imshow(image)\n",
        "  #plt.colorbar()\n",
        "  plt.grid(False)\n",
        "  plt.show()\n"
      ],
      "execution_count": 0,
      "outputs": []
    },
    {
      "cell_type": "code",
      "metadata": {
        "id": "FehP8l368z6v",
        "colab_type": "code",
        "colab": {}
      },
      "source": [
        "model.compile(optimizer='adam',\n",
        "              loss='sparse_categorical_crossentropy',\n",
        "              metrics=['accuracy'])\n",
        "\n",
        "model.fit(train_it, epochs=5)\n",
        "beep()"
      ],
      "execution_count": 0,
      "outputs": []
    },
    {
      "cell_type": "code",
      "metadata": {
        "id": "rwrD9IQNluYx",
        "colab_type": "code",
        "colab": {}
      },
      "source": [
        "model.evaluate(test_it)"
      ],
      "execution_count": 0,
      "outputs": []
    },
    {
      "cell_type": "code",
      "metadata": {
        "id": "IpTR20pco8p-",
        "colab_type": "code",
        "colab": {}
      },
      "source": [
        "p = model.predict(test_it, verbose=1)\n",
        "print(np.histogram(np.argmax(p, axis=1), bins=np.arange(0, cats + 1))[0])"
      ],
      "execution_count": 0,
      "outputs": []
    },
    {
      "cell_type": "code",
      "metadata": {
        "id": "5tPcvU8spC9a",
        "colab_type": "code",
        "colab": {}
      },
      "source": [
        "#print(p[:5])\n",
        "print(np.argmax(p[:40], axis=1))\n",
        "print(np.histogram(np.argmax(p, axis=1), bins=[0, 1, 2, 3, 4]))\n",
        "print(np.histogram(np.argmax(p, axis=1), bins=np.arange(0, cats + 1)))\n"
      ],
      "execution_count": 0,
      "outputs": []
    },
    {
      "cell_type": "code",
      "metadata": {
        "id": "upE2XQtlv5DU",
        "colab_type": "code",
        "colab": {}
      },
      "source": [
        "n = test_it.next()\n",
        "p = model.predict(n[0])\n",
        "for i in range(len(p)):\n",
        "  print(\"correct:\", n[1][i], \"argmax:\", np.argmax(p[i]), \"raw:\", p[i])\n",
        "#print(n[1])\n",
        "#print(p)"
      ],
      "execution_count": 0,
      "outputs": []
    },
    {
      "cell_type": "markdown",
      "metadata": {
        "id": "ZKlOcUhfC6C9",
        "colab_type": "text"
      },
      "source": [
        ""
      ]
    },
    {
      "cell_type": "code",
      "metadata": {
        "id": "3hDdNSk2u9sW",
        "colab_type": "code",
        "colab": {}
      },
      "source": [
        "import numpy as np\n",
        "import matplotlib.pyplot as plt\n",
        "\n",
        "n = train_it.next()\n",
        "print(n[0].shape)\n",
        "x = n[0][0]\n",
        "print(n[0])\n",
        "#print(train_it.classes)\n",
        "#x = train_it.next()[0][0]\n",
        "plt.figure()\n",
        "print(x.shape)\n",
        "plt.imshow(x)\n",
        "plt.colorbar()\n",
        "plt.grid(False)\n",
        "plt.show()\n"
      ],
      "execution_count": 0,
      "outputs": []
    }
  ]
}